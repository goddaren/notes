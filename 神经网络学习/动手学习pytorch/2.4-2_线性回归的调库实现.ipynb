{
 "cells": [
  {
   "attachments": {},
   "cell_type": "markdown",
   "metadata": {},
   "source": [
    "线性规划调库流程总结：\n",
    "\n",
    "- 1.导入数据，将数据用data.DataLoader打包成一个个batch\n",
    "- 2.定义模型，这里使用nn.Linear，并将模型放到Sequential容器中，初始化模型参数\n",
    "- 3.定义损失函数，这里使用MSELoss\n",
    "- 4.定义优化器，这里使用SGD，并传入模型参数和学习率\n",
    "- 5.训练模型，使用for循环，每次从dataloader中取出一个batch的数据，将其放入模型中，计算损失，反向传播，更新参数；每一次epoch，打印一次损失\n",
    "- 6.评估模型"
   ]
  },
  {
   "cell_type": "code",
   "execution_count": 31,
   "metadata": {},
   "outputs": [],
   "source": [
    "import numpy as np\n",
    "import torch\n",
    "from torch.utils import data\n",
    "from d2l import torch as d2l\n",
    "\n",
    "true_w = torch.tensor([2, -3.4])\n",
    "true_b = 4.2\n",
    "features, labels = d2l.synthetic_data(true_w, true_b, 1000)"
   ]
  },
  {
   "cell_type": "code",
   "execution_count": 32,
   "metadata": {},
   "outputs": [
    {
     "name": "stdout",
     "output_type": "stream",
     "text": [
      "(1, 2, 3, 4, 5)\n",
      "1 2 3 4 5\n",
      "((1, 2, 3, 4, 5),)\n",
      "(1, 2, 3, 4, 5)\n",
      "(1, 2, 3, 4, 5)\n",
      "1 2 3 4 5\n"
     ]
    }
   ],
   "source": [
    "def test_star_symbol(*test):\n",
    "    print(test)\n",
    "    print(*test)\n",
    "\n",
    "test_star_symbol(1,2,3,4,5)\n",
    "test_star_symbol((1,2,3,4,5))\n",
    "test_star_symbol(*(1,2,3,4,5)) # 与第一个等价"
   ]
  },
  {
   "cell_type": "code",
   "execution_count": 33,
   "metadata": {},
   "outputs": [],
   "source": [
    "def load_array(data_arrays, batch_size, is_train=True):  #@save\n",
    "    \"\"\"构造一个PyTorch数据迭代器\"\"\"\n",
    "    dataset = data.TensorDataset(*data_arrays) # 将输入的数据组合起来，*表示将传入的元组数据解包，解包后的数据为tensor，如果不解包，那么dataset中的数据为元组\n",
    "    return data.DataLoader(dataset, batch_size, shuffle=is_train) # 返回一个数据迭代器，这个数据迭代器每次返回batch_size个数据，shuffle表示是否打乱数据，这里默认是打乱\n",
    "\n",
    "batch_size = 10\n",
    "data_iter = load_array((features, labels), batch_size)"
   ]
  },
  {
   "cell_type": "code",
   "execution_count": 34,
   "metadata": {},
   "outputs": [
    {
     "data": {
      "text/plain": [
       "[tensor([[-0.5786,  0.2189],\n",
       "         [ 0.0775, -0.8475],\n",
       "         [ 1.9589,  1.2845],\n",
       "         [ 0.2725,  0.2086],\n",
       "         [ 0.4226,  0.6844],\n",
       "         [ 0.0249, -0.3160],\n",
       "         [ 1.2387, -0.6522],\n",
       "         [-2.5800,  0.2143],\n",
       "         [ 0.8455,  0.9739],\n",
       "         [ 3.4283, -0.4749]]),\n",
       " tensor([[ 2.3031],\n",
       "         [ 7.2429],\n",
       "         [ 3.7529],\n",
       "         [ 4.0312],\n",
       "         [ 2.7092],\n",
       "         [ 5.3418],\n",
       "         [ 8.9024],\n",
       "         [-1.6898],\n",
       "         [ 2.5767],\n",
       "         [12.6662]])]"
      ]
     },
     "execution_count": 34,
     "metadata": {},
     "output_type": "execute_result"
    }
   ],
   "source": [
    "next(iter(data_iter)) # 看看数据迭代器返回的数据是什么样子的"
   ]
  },
  {
   "cell_type": "code",
   "execution_count": 35,
   "metadata": {},
   "outputs": [],
   "source": [
    "# nn是神经网络的缩写\n",
    "from torch import nn\n",
    "\n",
    "net = nn.Sequential(nn.Linear(2, 1)) # 线性回归模型，输入为2维，输出为1维，Sequential函数是将多个网络层组合起来，这里只有一个网络层"
   ]
  },
  {
   "cell_type": "code",
   "execution_count": 36,
   "metadata": {},
   "outputs": [
    {
     "data": {
      "text/plain": [
       "tensor([0.])"
      ]
     },
     "execution_count": 36,
     "metadata": {},
     "output_type": "execute_result"
    }
   ],
   "source": [
    "net[0].weight.data.normal_(0, 0.01) # 初始化权重，即w，这里用正态分布初始化，均值为0，标准差为0.01\n",
    "net[0].bias.data.fill_(0) # 初始化偏差，即b"
   ]
  },
  {
   "cell_type": "code",
   "execution_count": 37,
   "metadata": {},
   "outputs": [],
   "source": [
    "loss = nn.MSELoss() # 损失函数，这里用均方误差损失函数"
   ]
  },
  {
   "cell_type": "code",
   "execution_count": 38,
   "metadata": {},
   "outputs": [],
   "source": [
    "trainer = torch.optim.SGD(net.parameters(), lr=0.03) # 优化器，这里用梯度下降优化器，学习率为0.03，这里提前把网络的参数(w和b)传入优化器，这样优化器就知道要优化哪些参数了"
   ]
  },
  {
   "cell_type": "code",
   "execution_count": 39,
   "metadata": {},
   "outputs": [
    {
     "name": "stdout",
     "output_type": "stream",
     "text": [
      "epoch 1, loss 0.000168\n",
      "epoch 2, loss 0.000097\n",
      "epoch 3, loss 0.000096\n"
     ]
    }
   ],
   "source": [
    "num_epochs = 3\n",
    "for epoch in range(num_epochs):\n",
    "    for X, y in data_iter: # 随机还是在这里，trainer只是更新参数\n",
    "        l = loss(net(X) ,y) # 这里的net已经知道你当前的w和b了，所以这里的net(X)就是预测值，y就是真实值，然后计算损失\n",
    "        trainer.zero_grad() # 梯度清零\n",
    "        l.backward()\n",
    "        trainer.step() # 更新参数\n",
    "    # 这里没有no_grad，会被梯度追踪，但这里不需要计算梯度（backward），所以可以不加no_grad。\n",
    "    # 不会影响下一个epoch的梯度计算，下一个epoch的l不是这里的l，不会从这里的l开始计算梯度。\n",
    "    # 性能考虑，可以加上no_grad。\n",
    "    l = loss(net(features), labels) \n",
    "    print(f'epoch {epoch + 1}, loss {l:f}')"
   ]
  },
  {
   "cell_type": "code",
   "execution_count": 40,
   "metadata": {},
   "outputs": [
    {
     "name": "stdout",
     "output_type": "stream",
     "text": [
      "w的估计误差： tensor([1.3232e-05, 4.5705e-04])\n",
      "b的估计误差： tensor([-0.0010])\n"
     ]
    }
   ],
   "source": [
    "w = net[0].weight.data\n",
    "print('w的估计误差：', true_w - w.reshape(true_w.shape))\n",
    "b = net[0].bias.data\n",
    "print('b的估计误差：', true_b - b)"
   ]
  }
 ],
 "metadata": {
  "kernelspec": {
   "display_name": "ml",
   "language": "python",
   "name": "python3"
  },
  "language_info": {
   "codemirror_mode": {
    "name": "ipython",
    "version": 3
   },
   "file_extension": ".py",
   "mimetype": "text/x-python",
   "name": "python",
   "nbconvert_exporter": "python",
   "pygments_lexer": "ipython3",
   "version": "3.10.12"
  },
  "orig_nbformat": 4
 },
 "nbformat": 4,
 "nbformat_minor": 2
}
